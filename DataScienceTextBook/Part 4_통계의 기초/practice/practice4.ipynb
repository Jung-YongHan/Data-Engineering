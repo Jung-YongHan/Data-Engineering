{
 "cells": [
  {
   "cell_type": "markdown",
   "metadata": {},
   "source": [
    "예졔 4.5) 앞의 알파 사의 정밀부품에 관한 규격으로 분산은 1 x 10^-7mm 이하로 되어있다(산포도가 작다는 것).\n",
    "정밀부품의 모표준편차는 이 규격에 어긋나는지의 여부를 유의수준 5%에서 검정하라."
   ]
  },
  {
   "cell_type": "markdown",
   "metadata": {},
   "source": [
    "해설) 분산이 양의 값을 갖는다는 것에 유의하여 분산이 어느 값 이하인가를 묻는 검정이므로 단측검정이다.\n",
    "이 때문에 귀무가설 H0: σ02 = 1 x 10^-7, 대립가설 H1: σ02 > 1 x 10^-7 로 둔다"
   ]
  },
  {
   "cell_type": "code",
   "execution_count": 1,
   "metadata": {},
   "outputs": [],
   "source": [
    "import numpy as np\n",
    "from scipy import stats"
   ]
  },
  {
   "cell_type": "code",
   "execution_count": 4,
   "metadata": {},
   "outputs": [
    {
     "name": "stdout",
     "output_type": "stream",
     "text": [
      "variance = 1.769642857143276e-07\n",
      "chi2 =  12.387500000002934       chi2_alp =  14.067140449340169\n",
      "p value= 0.08851446668234408\n"
     ]
    }
   ],
   "source": [
    "data = np.array([1.5399, 1.5390, 1.5399, 1.5395, 1.5400, 1.5390, 1.5399, 1.5399])\n",
    "var = np.var(data, ddof=1)  ## ddof -> 표본표준편차 계산에 사용되는 분모인 n-ddof값 이는 자유도라고 한다.\n",
    "print('variance =', var)\n",
    "\n",
    "var0 = 1.e-7\n",
    "alp=0.05\n",
    "N = len(data)\n",
    "df = N - 1\n",
    "\n",
    "chi2 = (N-1)*var / var0\n",
    "chi2_alp = stats.chi2.ppf( (1-alp), df=df)\n",
    "print('chi2 = ', chi2, '      chi2_alp = ', chi2_alp)\n",
    "pval = 1 - stats.chi2.cdf(chi2, df)\n",
    "print('p value=', pval)"
   ]
  },
  {
   "cell_type": "markdown",
   "metadata": {},
   "source": [
    "alpha = 5%일 때 H0을 기각할 수 없다. 즉, 규격 내에 있다고는 명확하게 말할 수 없지만 그 가능성이 있다는 것"
   ]
  }
 ],
 "metadata": {
  "kernelspec": {
   "display_name": "Python 3.10.4 64-bit",
   "language": "python",
   "name": "python3"
  },
  "language_info": {
   "codemirror_mode": {
    "name": "ipython",
    "version": 3
   },
   "file_extension": ".py",
   "mimetype": "text/x-python",
   "name": "python",
   "nbconvert_exporter": "python",
   "pygments_lexer": "ipython3",
   "version": "3.10.4"
  },
  "orig_nbformat": 4,
  "vscode": {
   "interpreter": {
    "hash": "26de051ba29f2982a8de78e945f0abaf191376122a1563185a90213a26c5da77"
   }
  }
 },
 "nbformat": 4,
 "nbformat_minor": 2
}
