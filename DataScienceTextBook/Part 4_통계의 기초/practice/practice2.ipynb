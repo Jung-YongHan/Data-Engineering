{
 "cells": [
  {
   "cell_type": "code",
   "execution_count": 7,
   "metadata": {},
   "outputs": [
    {
     "name": "stdout",
     "output_type": "stream",
     "text": [
      "za= -2.5758293035489004  zb= 2.5758293035489004\n"
     ]
    }
   ],
   "source": [
    "from scipy.stats import norm\n",
    "alp = 0.01\n",
    "za, zb = norm.interval(alpha=(1-alp), loc=0, scale=1)\n",
    "print('za=', za, ' zb=', zb)"
   ]
  },
  {
   "cell_type": "markdown",
   "metadata": {},
   "source": [
    "예제 4.1) 초등학교 어느 학년의 전국 아동수는 110만 명이라고 한다. 이 아동을 대상으로 하는 전국 학력평가 평균값을 추정하기 위해 N = 10명을 무작위로 추출한 결과 표본평균은 μ = 145.2점이었다. 또한 표본표준편차 σ는 23.7점이었다. 이때 신뢰도 0.99, 0.95, 0.90에 대한 신뢰구간을 구하라"
   ]
  },
  {
   "cell_type": "markdown",
   "metadata": {},
   "source": [
    "모분산을 모르므로 새로운 확률분포 t 정의\n",
    "t는 자유도 N-1인 t분포 tN-1을 따른다는 것으로 알려져 있다."
   ]
  },
  {
   "cell_type": "code",
   "execution_count": 5,
   "metadata": {},
   "outputs": [
    {
     "name": "stdout",
     "output_type": "stream",
     "text": [
      "신뢰도 0.99에 대한 신뢰구간 : [120.84378885405553, 169.55621114594445]\n",
      "신뢰도 0.95에 대한 신뢰구간 : [128.24604132892404, 162.15395867107594]\n",
      "신뢰도 0.90에 대한 신뢰구간 : [131.46155538107368, 158.93844461892627]\n"
     ]
    }
   ],
   "source": [
    "from scipy.stats import t\n",
    "\n",
    "N = 10\n",
    "mu_hat = 145.2\n",
    "std = 23.7\n",
    "alp = [0.01, 0.05, 0.10]\n",
    "se = std / N**0.5\n",
    "\n",
    "for a in alp:\n",
    "    l, u = t.interval(alpha=(1-a), df=N-1)\n",
    "    print(f\"신뢰도 {(1-a):.2f}에 대한 신뢰구간 : [{mu_hat + se*l}, {mu_hat + se*u}]\")"
   ]
  },
  {
   "cell_type": "markdown",
   "metadata": {},
   "source": [
    "예제 4.2) 국정 지지율을 조사하기 위해 여론조사를 실시했다. 표본수는 1,000명이고 지지하는 사람수는 550명이었다. 신뢰도 95%인 신뢰구간을 구하라."
   ]
  },
  {
   "cell_type": "code",
   "execution_count": 27,
   "metadata": {},
   "outputs": [
    {
     "name": "stdout",
     "output_type": "stream",
     "text": [
      "신뢰도 0.95에 대한 신뢰구간 : [0.5191655864637935, 0.5808344135362066]\n"
     ]
    }
   ],
   "source": [
    "import numpy as np\n",
    "\n",
    "N = 1000\n",
    "p_hat = 550/1000\n",
    "alp = 0.05\n",
    "z = norm.interval(alpha=(1-alp), loc=0, scale=1)[1]\n",
    "val = z*np.sqrt(p_hat*(1-p_hat)/N)\n",
    "\n",
    "l, u = t.interval(alpha=(1-alp), df=N-1)\n",
    "print(f\"신뢰도 {(1-alp):.2f}에 대한 신뢰구간 : [{p_hat - val}, {p_hat + val}]\")"
   ]
  },
  {
   "cell_type": "code",
   "execution_count": 29,
   "metadata": {},
   "outputs": [
    {
     "name": "stdout",
     "output_type": "stream",
     "text": [
      "신뢰도 0.95에 대한 신뢰구간 : [0.5345827932318968, 0.5654172067681033]\n"
     ]
    }
   ],
   "source": [
    "N = 4000\n",
    "p_hat = 550/1000\n",
    "alp = 0.05\n",
    "z = norm.interval(alpha=(1-alp), loc=0, scale=1)[1]\n",
    "val = z*np.sqrt(p_hat*(1-p_hat)/N)\n",
    "\n",
    "l, u = t.interval(alpha=(1-alp), df=N-1)\n",
    "print(f\"신뢰도 {(1-alp):.2f}에 대한 신뢰구간 : [{p_hat - val}, {p_hat + val}]\")"
   ]
  },
  {
   "cell_type": "code",
   "execution_count": 30,
   "metadata": {},
   "outputs": [
    {
     "name": "stdout",
     "output_type": "stream",
     "text": [
      "신뢰도 0.95에 대한 신뢰구간 : [0.5450251542301052, 0.5549748457698949]\n"
     ]
    }
   ],
   "source": [
    "N = 38416\n",
    "p_hat = 550/1000\n",
    "alp = 0.05\n",
    "z = norm.interval(alpha=(1-alp), loc=0, scale=1)[1]\n",
    "val = z*np.sqrt(p_hat*(1-p_hat)/N)\n",
    "\n",
    "l, u = t.interval(alpha=(1-alp), df=N-1)\n",
    "print(f\"신뢰도 {(1-alp):.2f}에 대한 신뢰구간 : [{p_hat - val}, {p_hat + val}]\")"
   ]
  }
 ],
 "metadata": {
  "kernelspec": {
   "display_name": "Python 3.10.4 64-bit",
   "language": "python",
   "name": "python3"
  },
  "language_info": {
   "codemirror_mode": {
    "name": "ipython",
    "version": 3
   },
   "file_extension": ".py",
   "mimetype": "text/x-python",
   "name": "python",
   "nbconvert_exporter": "python",
   "pygments_lexer": "ipython3",
   "version": "3.10.4"
  },
  "orig_nbformat": 4,
  "vscode": {
   "interpreter": {
    "hash": "26de051ba29f2982a8de78e945f0abaf191376122a1563185a90213a26c5da77"
   }
  }
 },
 "nbformat": 4,
 "nbformat_minor": 2
}
