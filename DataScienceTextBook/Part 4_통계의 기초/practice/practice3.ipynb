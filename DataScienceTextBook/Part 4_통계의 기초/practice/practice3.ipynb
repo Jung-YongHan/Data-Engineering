{
 "cells": [
  {
   "cell_type": "markdown",
   "metadata": {},
   "source": [
    "예제 4.3) 모분산을 모르는 경우(단측검정)\n",
    "어느 학급에서 수학 평균점수를 올리기 위해 보강 전후에 시험을 쳤다. \n",
    "보강 전후의 점수 차이는 1, -1, -2, 3, -1, 5, 4, 0, 7, -1이었다. 보강의 효과를 알고 싶다. 유의수준 a = 5%에서 검정하라."
   ]
  },
  {
   "cell_type": "markdown",
   "metadata": {},
   "source": [
    "해설) 보강 후 평균점수가 올랐다(μ0 > 0)고 주장하고 싶다면, 이것을 대립가설 H1으로 둔다.\n",
    "보강의 효과는 없었다는 귀무가설은 H0(μ0 = 0)로 한다. 이것은 단측검정이 된다."
   ]
  },
  {
   "cell_type": "code",
   "execution_count": 2,
   "metadata": {},
   "outputs": [
    {
     "name": "stdout",
     "output_type": "stream",
     "text": [
      "talp (alpha=0.05, df=9) = 1.8331129326536333\n",
      "t= 1.5480470613460082\n"
     ]
    }
   ],
   "source": [
    "import numpy as np\n",
    "from scipy import stats\n",
    "\n",
    "data = np.array([1, -1, -2, 3, -1, 5, 4, 0, 7, -1])\n",
    "m = np.average(data)\n",
    "s = np.std(data, ddof=1)\n",
    "N = len(data)\n",
    "\n",
    "alp = 0.05\n",
    "talp = stats.t.ppf((1-alp), N-1) # alpha에 대응하는 확률 변수의 값\n",
    "print(f'talp (alpha=0.05, df={N-1}) = {talp}')\n",
    "\n",
    "m0 = 0 # null hypothesis\n",
    "t = (m - m0)/(s/np.sqrt(N))\n",
    "print('t=', t)"
   ]
  },
  {
   "cell_type": "markdown",
   "metadata": {},
   "source": [
    "결과 talp > t이므로 H0은 기각할 수 없다. 이와 같은 확률 변수의 값으로 비교하는 것이 아니라 확률의 값으로 비교하기 위해서는 다음과 같이 계산한다."
   ]
  },
  {
   "cell_type": "code",
   "execution_count": 3,
   "metadata": {},
   "outputs": [
    {
     "name": "stdout",
     "output_type": "stream",
     "text": [
      "p value= 0.07800883831234118\n"
     ]
    }
   ],
   "source": [
    "prob = stats.t.cdf(t, N-1)\n",
    "print(f'p value= {1-prob}')"
   ]
  },
  {
   "cell_type": "markdown",
   "metadata": {},
   "source": [
    "p value(p값)는 설정한 alpha보다 크기 때문에 H0을 기각할 수 없다."
   ]
  },
  {
   "cell_type": "markdown",
   "metadata": {},
   "source": [
    "고찰하자면, 평균점수가 올랐기 때문에 보강의 효과를 입증할 수 있다는 것이다. 이 이유 중 하나로 식을 보면 분모에 hat(σ)가 있고 이 값이 커지면 값이 작아진다. 즉, 데이터의 산포도가 크면 t값이 작다. 따라서 동일한 평균점수에서도 산포도가 작아지면 기각하여 보강의 효과가 있다는 것을 입증할 수 있다."
   ]
  },
  {
   "cell_type": "markdown",
   "metadata": {},
   "source": [
    "예제 4.4) 모분산을 모르는 경우(양측검정)\n",
    "알파 사의 정밀부품의 직경은 1.54cm이다. 제작된 것으로부터 8개를 표본 추출하여 직경을 측정하였더니 \n",
    "1.5399, 1.5390, 1.5399, 1.5395, 1.5400, 1.5390, 1.5399, 1.5399이었다.\n",
    "이 부품은 규격대로인가? 유의수준 alpha = 5%로 검정하라"
   ]
  },
  {
   "cell_type": "markdown",
   "metadata": {},
   "source": [
    "해설) 이 예에서는 규격의 값보다 크든 작든 불합격이므로 양측 검정을 고려한다. 따라서 H0: mu0=1.54, H1: mu1!=1.54"
   ]
  },
  {
   "cell_type": "code",
   "execution_count": 4,
   "metadata": {},
   "outputs": [
    {
     "name": "stdout",
     "output_type": "stream",
     "text": [
      "t =  -2.4373067467182707\n",
      "p value =  0.04493615922381196\n"
     ]
    }
   ],
   "source": [
    "data = np.array([1.5399, 1.5390, 1.5399, 1.5395, 1.5400, 1.5390, 1.5399, 1.5399])\n",
    "m = np.average(data)\n",
    "std = np.std(data, ddof=1)\n",
    "N = len(data)\n",
    "df = N - 1 # DoF 자유도\n",
    "m0 = 1.54\n",
    "\n",
    "t = (m - m0) / (std/np.sqrt(N))\n",
    "prob = stats.t.cdf(t, df)\n",
    "if t >= 0:\n",
    "    p = 1 - prob\n",
    "else:\n",
    "    p = prob\n",
    "\n",
    "print('t = ', t)\n",
    "print('p value = ', 2*p)"
   ]
  },
  {
   "cell_type": "markdown",
   "metadata": {},
   "source": [
    "t가 음수 값을 가질 때에는 p = prob으로 한다. 또한 양측검정보다 p가 두 배가 되는 2*p로 한다.\n",
    "\n",
    "alpha = 5%로 하면 p value < alpha에 의해, H0은 기각하고 H1를 채택한다. 즉 규격대로가 아니라고 할 수 있다."
   ]
  },
  {
   "cell_type": "code",
   "execution_count": 5,
   "metadata": {},
   "outputs": [],
   "source": [
    "t, p = stats.ttest_1samp(data, m0)"
   ]
  },
  {
   "cell_type": "code",
   "execution_count": 6,
   "metadata": {},
   "outputs": [
    {
     "data": {
      "text/plain": [
       "(-2.4373067467182707, 0.04493615922381196)"
      ]
     },
     "execution_count": 6,
     "metadata": {},
     "output_type": "execute_result"
    }
   ],
   "source": [
    "t, p"
   ]
  },
  {
   "cell_type": "markdown",
   "metadata": {},
   "source": [
    "이 함수는 양측검정을 전제로 하고 있으므로 단측검정에서 이용할 때 p값은 이 절반의 값을 이용한다."
   ]
  }
 ],
 "metadata": {
  "kernelspec": {
   "display_name": "Python 3.10.4 64-bit",
   "language": "python",
   "name": "python3"
  },
  "language_info": {
   "codemirror_mode": {
    "name": "ipython",
    "version": 3
   },
   "file_extension": ".py",
   "mimetype": "text/x-python",
   "name": "python",
   "nbconvert_exporter": "python",
   "pygments_lexer": "ipython3",
   "version": "3.10.4"
  },
  "orig_nbformat": 4,
  "vscode": {
   "interpreter": {
    "hash": "26de051ba29f2982a8de78e945f0abaf191376122a1563185a90213a26c5da77"
   }
  }
 },
 "nbformat": 4,
 "nbformat_minor": 2
}
