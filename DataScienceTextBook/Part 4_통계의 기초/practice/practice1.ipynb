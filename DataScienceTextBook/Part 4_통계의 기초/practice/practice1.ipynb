{
 "cells": [
  {
   "cell_type": "markdown",
   "metadata": {},
   "source": [
    "표본 평균의 분포를 살펴보기."
   ]
  },
  {
   "cell_type": "code",
   "execution_count": 2,
   "metadata": {},
   "outputs": [
    {
     "data": {
      "text/plain": [
       "(array([0., 0., 0., 0., 1., 3., 3., 7., 5., 7., 6., 5., 3., 4., 3., 1., 0.,\n",
       "        0., 1., 1.]),\n",
       " array([1.5 , 1.55, 1.6 , 1.65, 1.7 , 1.75, 1.8 , 1.85, 1.9 , 1.95, 2.  ,\n",
       "        2.05, 2.1 , 2.15, 2.2 , 2.25, 2.3 , 2.35, 2.4 , 2.45, 2.5 ]),\n",
       " <BarContainer object of 20 artists>)"
      ]
     },
     "execution_count": 2,
     "metadata": {},
     "output_type": "execute_result"
    },
    {
     "data": {
      "image/png": "[encoded data removed]",
      "text/plain": [
       "<Figure size 432x288 with 1 Axes>"
      ]
     },
     "metadata": {
      "needs_background": "light"
     },
     "output_type": "display_data"
    }
   ],
   "source": [
    "import numpy as np\n",
    "import matplotlib.pyplot as plt\n",
    "from scipy.stats import norm\n",
    "\n",
    "num = 50 # 샘플수 N의 표본 평균 개수\n",
    "N = 10\n",
    "mean, std = 2, 0.5\n",
    "mu = np.zeros(num)\n",
    "\n",
    "for i in range(num):\n",
    "    mu[i] = np.mean(norm.rvs(loc=mean, scale=std, size=N))\n",
    "plt.hist(mu, bins=20, range=(1.5, 2.5))"
   ]
  },
  {
   "cell_type": "markdown",
   "metadata": {},
   "source": [
    "위 히스토그램에서 주어진 평균값 주변에 분포하고 있는 것을 알 수 있다.\n",
    "num을 크게하면 분포의 평균값이 실제의 평균값에 가까운 모양이 되는 것을 그래프로도 알 수 있다."
   ]
  },
  {
   "cell_type": "code",
   "execution_count": 3,
   "metadata": {},
   "outputs": [
    {
     "data": {
      "text/plain": [
       "(array([ 1.,  4.,  2.,  9., 16., 17., 31., 48., 56., 64., 52., 53., 50.,\n",
       "        29., 28., 18., 12.,  4.,  3.,  1.]),\n",
       " array([1.5 , 1.55, 1.6 , 1.65, 1.7 , 1.75, 1.8 , 1.85, 1.9 , 1.95, 2.  ,\n",
       "        2.05, 2.1 , 2.15, 2.2 , 2.25, 2.3 , 2.35, 2.4 , 2.45, 2.5 ]),\n",
       " <BarContainer object of 20 artists>)"
      ]
     },
     "execution_count": 3,
     "metadata": {},
     "output_type": "execute_result"
    },
    {
     "data": {
      "image/png": "[encoded data removed]",
      "text/plain": [
       "<Figure size 432x288 with 1 Axes>"
      ]
     },
     "metadata": {
      "needs_background": "light"
     },
     "output_type": "display_data"
    }
   ],
   "source": [
    "num = 500 # 샘플수 N의 표본 평균 개수\n",
    "N = 10\n",
    "mean, std = 2, 0.5\n",
    "mu = np.zeros(num)\n",
    "\n",
    "for i in range(num):\n",
    "    mu[i] = np.mean(norm.rvs(loc=mean, scale=std, size=N))\n",
    "plt.hist(mu, bins=20, range=(1.5, 2.5))"
   ]
  },
  {
   "cell_type": "code",
   "execution_count": null,
   "metadata": {},
   "outputs": [],
   "source": []
  }
 ],
 "metadata": {
  "kernelspec": {
   "display_name": "Python 3.10.4 64-bit",
   "language": "python",
   "name": "python3"
  },
  "language_info": {
   "codemirror_mode": {
    "name": "ipython",
    "version": 3
   },
   "file_extension": ".py",
   "mimetype": "text/x-python",
   "name": "python",
   "nbconvert_exporter": "python",
   "pygments_lexer": "ipython3",
   "version": "3.10.4"
  },
  "orig_nbformat": 4,
  "vscode": {
   "interpreter": {
    "hash": "26de051ba29f2982a8de78e945f0abaf191376122a1563185a90213a26c5da77"
   }
  }
 },
 "nbformat": 4,
 "nbformat_minor": 2
}
