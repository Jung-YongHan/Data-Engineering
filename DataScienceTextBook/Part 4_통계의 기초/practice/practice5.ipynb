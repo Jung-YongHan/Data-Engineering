{
 "cells": [
  {
   "cell_type": "markdown",
   "metadata": {},
   "source": [
    "예제4.7) 아버지의 신장 x[cm]와 아들의 신장 y[cm]이고 이 양자 사이에 상관이 있는가의 여부(아버지의 신장이 크면, 아들의 신장도 크다는 가설)를 유의수준 alpha = 0.05, 0.01의 경우에 관해서 알아보자"
   ]
  },
  {
   "cell_type": "markdown",
   "metadata": {},
   "source": [
    "해설) 이 문제의 경우 귀무가설 H0: pxy = 0, 대립가설 H1: pxy != 0이다. 이 예제를 위한 스크립트에서는 피어슨의 상관계수와 p값 두 가지를 동시에 계산하는 scipy.stats.pearson응 이용"
   ]
  },
  {
   "cell_type": "code",
   "execution_count": 1,
   "metadata": {},
   "outputs": [
    {
     "name": "stdout",
     "output_type": "stream",
     "text": [
      "corr. coef. =  0.6342703173343618    p value= 0.04888299019331427\n"
     ]
    }
   ],
   "source": [
    "import numpy as np\n",
    "from scipy import stats\n",
    "\n",
    "x = np.array([168, 172, 181, 179, 166, 185, 177, 176, 169, 161])\n",
    "y = np.array([111, 125, 129, 120, 126, 133, 130, 116, 118, 115])\n",
    "corr, pvalue = stats.pearsonr(x, y)\n",
    "print('corr. coef. = ', corr, '   p value=', pvalue)"
   ]
  },
  {
   "cell_type": "markdown",
   "metadata": {},
   "source": [
    "p value를 보면 alpha = 5%일 때는 H0(무상관)를 기각하고 상관이 있다고 한다. alpha = 1%일 때는 H0을 기각할 수 없다."
   ]
  },
  {
   "cell_type": "code",
   "execution_count": 3,
   "metadata": {},
   "outputs": [
    {
     "data": {
      "text/plain": [
       "<matplotlib.collections.PathCollection at 0x1fb3232cc70>"
      ]
     },
     "execution_count": 3,
     "metadata": {},
     "output_type": "execute_result"
    },
    {
     "data": {
      "image/png": "[encoded data removed]",
      "text/plain": [
       "<Figure size 432x288 with 1 Axes>"
      ]
     },
     "metadata": {
      "needs_background": "light"
     },
     "output_type": "display_data"
    }
   ],
   "source": [
    "import matplotlib.pyplot as plt\n",
    "\n",
    "plt.scatter(x, y)"
   ]
  },
  {
   "cell_type": "markdown",
   "metadata": {},
   "source": [
    "산점도 및 무상관 검정으로만 상관이 있는가의 여부를 판정하기란 어렵다. 실제로는 데이터를 둘러싼 조건 등을 고려하여 판정해야 할 것이다."
   ]
  }
 ],
 "metadata": {
  "kernelspec": {
   "display_name": "Python 3.10.4 64-bit",
   "language": "python",
   "name": "python3"
  },
  "language_info": {
   "codemirror_mode": {
    "name": "ipython",
    "version": 3
   },
   "file_extension": ".py",
   "mimetype": "text/x-python",
   "name": "python",
   "nbconvert_exporter": "python",
   "pygments_lexer": "ipython3",
   "version": "3.10.4"
  },
  "orig_nbformat": 4,
  "vscode": {
   "interpreter": {
    "hash": "26de051ba29f2982a8de78e945f0abaf191376122a1563185a90213a26c5da77"
   }
  }
 },
 "nbformat": 4,
 "nbformat_minor": 2
}
