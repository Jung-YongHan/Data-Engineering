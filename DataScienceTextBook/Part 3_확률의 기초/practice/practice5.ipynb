{
 "cells": [
  {
   "cell_type": "code",
   "execution_count": 19,
   "metadata": {},
   "outputs": [],
   "source": [
    "import numpy as np\n",
    "import matplotlib.pyplot as plt\n",
    "from scipy.stats import poisson\n",
    "\n",
    "import warnings\n",
    "warnings.filterwarnings(action='ignore')\n",
    "\n",
    "import matplotlib\n",
    "matplotlib.rcParams['font.family'] = 'NanumGothic'"
   ]
  },
  {
   "cell_type": "markdown",
   "metadata": {},
   "source": [
    "예제 3.1) 어느 도시의 교통사고가 하루에 평균 2.4건 있다. 하루에 일어나는 교통사고의 건수가 포아송분포를 따른다고 가정할 때 하루의 교통사고가 2건 이하일 확률을 구하라"
   ]
  },
  {
   "cell_type": "markdown",
   "metadata": {},
   "source": [
    "λ = 2.4, 포아송분포는 이산확률분포이므로 2건 이하일 확률 => P(X <= 2) = P(X = 0) + P(X = 1) + P(X = 2)"
   ]
  },
  {
   "cell_type": "code",
   "execution_count": 15,
   "metadata": {},
   "outputs": [
    {
     "name": "stdout",
     "output_type": "stream",
     "text": [
      "sum of p = 0.5697087466575105\n"
     ]
    }
   ],
   "source": [
    "lamb = 2.4\n",
    "psum = 0\n",
    "for i in range(3):\n",
    "    k = poisson.pmf(i, lamb)\n",
    "    psum += k\n",
    "print('sum of p =', psum)"
   ]
  },
  {
   "cell_type": "markdown",
   "metadata": {},
   "source": [
    "결과에 의하면 약 57%의 확률로 2건 이하의 사고가 발생한다."
   ]
  },
  {
   "cell_type": "markdown",
   "metadata": {},
   "source": [
    "예제 3.2) FIFA 월드컵 축가 2002년과 2006년 대회에서 1차 리그 전체 시합의 득점을 조사하여 특징을 분석하라."
   ]
  },
  {
   "cell_type": "markdown",
   "metadata": {},
   "source": [
    "해설) 시합에서 대전하는 두 팀의 득점을 모두 더한 값을 한 시합의 득점으로 하고 이 빈도를 구한다. \n",
    "빈도를 전체 시합수로 나눈 값을 세로축으로 잡고, 가로축을 득점분포로 잡은 것을 나타낸다.\n",
    "λ는 한 시합당 평균득점이다. (스크립트 제공X, 혼자 푼 것)"
   ]
  },
  {
   "cell_type": "markdown",
   "metadata": {},
   "source": [
    "2002년 전체 시합수 64회.  \n",
    "0골 - 3  \n",
    "1골 - 15  \n",
    "2골 - 20  \n",
    "3골 - 11  \n",
    "4골 - 8  \n",
    "5골 - 4  \n",
    "6골 - 1  \n",
    "7골 - 1  \n",
    "8골 - 1"
   ]
  },
  {
   "cell_type": "code",
   "execution_count": 30,
   "metadata": {},
   "outputs": [
    {
     "data": {
      "image/png": "[encoded data removed]",
      "text/plain": [
       "<Figure size 432x288 with 1 Axes>"
      ]
     },
     "metadata": {
      "needs_background": "light"
     },
     "output_type": "display_data"
    }
   ],
   "source": [
    "csum = 64\n",
    "x = np.arange(9)\n",
    "y = np.array([3, 15, 20, 11, 8, 4, 1, 1, 1])\n",
    "lamb = sum(x*y)/csum \n",
    "\n",
    "# 포아송 분포\n",
    "p = poisson.pmf(x, lamb)\n",
    "plt.scatter(x, p)\n",
    "\n",
    "# 실제 득점 분포\n",
    "arr_p = y/csum\n",
    "plt.scatter(x, arr_p)\n",
    "\n",
    "plt.xlabel('득점')\n",
    "plt.ylabel('확률')\n",
    "\n",
    "plt.legend(['2002년 대회', f'포아송분포\\nλ={lamb}'])\n",
    "\n",
    "plt.ylim(0, 0.4)\n",
    "\n",
    "plt.show();"
   ]
  },
  {
   "cell_type": "markdown",
   "metadata": {},
   "source": [
    "2006년 전체 시합수 64회.  \n",
    "0골 - 7  \n",
    "1골 - 13  \n",
    "2골 - 18  \n",
    "3골 - 13  \n",
    "4골 - 9  \n",
    "5골 - 2  \n",
    "6골 - 2  \n",
    "7골 - 0  \n",
    "8골 - 0"
   ]
  },
  {
   "cell_type": "code",
   "execution_count": 31,
   "metadata": {},
   "outputs": [
    {
     "data": {
      "image/png": "[encoded data removed]",
      "text/plain": [
       "<Figure size 432x288 with 1 Axes>"
      ]
     },
     "metadata": {
      "needs_background": "light"
     },
     "output_type": "display_data"
    }
   ],
   "source": [
    "csum = 64\n",
    "x = np.arange(9)\n",
    "y = np.array([7, 13, 18, 13, 9, 2, 2, 0, 0])\n",
    "lamb = sum(x*y)/csum \n",
    "\n",
    "# 포아송 분포\n",
    "p = poisson.pmf(x, lamb)\n",
    "plt.scatter(x, p)\n",
    "\n",
    "# 실제 득점 분포\n",
    "arr_p = y/csum\n",
    "plt.scatter(x, arr_p)\n",
    "\n",
    "plt.xlabel('득점')\n",
    "plt.ylabel('확률')\n",
    "\n",
    "plt.legend(['2006년 대회', f'포아송분포\\nλ={lamb}'])\n",
    "\n",
    "# plt.ylim(0, 0.4)\n",
    "\n",
    "plt.show();"
   ]
  },
  {
   "cell_type": "code",
   "execution_count": null,
   "metadata": {},
   "outputs": [],
   "source": []
  }
 ],
 "metadata": {
  "kernelspec": {
   "display_name": "Python 3.10.4 64-bit",
   "language": "python",
   "name": "python3"
  },
  "language_info": {
   "codemirror_mode": {
    "name": "ipython",
    "version": 3
   },
   "file_extension": ".py",
   "mimetype": "text/x-python",
   "name": "python",
   "nbconvert_exporter": "python",
   "pygments_lexer": "ipython3",
   "version": "3.10.4"
  },
  "orig_nbformat": 4,
  "vscode": {
   "interpreter": {
    "hash": "26de051ba29f2982a8de78e945f0abaf191376122a1563185a90213a26c5da77"
   }
  }
 },
 "nbformat": 4,
 "nbformat_minor": 2
}
