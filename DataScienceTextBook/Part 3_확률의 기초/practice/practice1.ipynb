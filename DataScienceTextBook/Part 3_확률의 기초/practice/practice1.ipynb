{
 "cells": [
  {
   "cell_type": "code",
   "execution_count": 1,
   "metadata": {},
   "outputs": [],
   "source": [
    "import numpy as np\n",
    "from scipy.stats import norm\n",
    "\n",
    "m=5\n",
    "std=2\n",
    "x = np.arange(-5, 15, 0.01)\n",
    "y = norm.pdf(x, loc=m, scale=std)"
   ]
  },
  {
   "cell_type": "code",
   "execution_count": 2,
   "metadata": {},
   "outputs": [
    {
     "data": {
      "text/plain": [
       "array([7.43359757e-07, 7.62168472e-07, 7.81433554e-07, ...,\n",
       "       8.01165565e-07, 7.81433554e-07, 7.62168472e-07])"
      ]
     },
     "execution_count": 2,
     "metadata": {},
     "output_type": "execute_result"
    }
   ],
   "source": [
    "y"
   ]
  },
  {
   "cell_type": "code",
   "execution_count": 4,
   "metadata": {},
   "outputs": [
    {
     "name": "stdout",
     "output_type": "stream",
     "text": [
      "p= 0.9010570639327038\n"
     ]
    }
   ],
   "source": [
    "za = 1.65\n",
    "zb = -1.65\n",
    "pa = norm.cdf(za, loc=0, scale=1)\n",
    "pb = norm.cdf(zb, loc=0, scale=1)\n",
    "p = pa - pb\n",
    "print('p=', p)"
   ]
  },
  {
   "cell_type": "markdown",
   "metadata": {},
   "source": [
    "검정에서는 a로 주어지기 때문에 백분위 점의 단측(za), 양측(za, zb)을 구하는 경우가 자주있다. 이 경우 표준정규분포를 이용하여 이것이 대칭분포라는 것을 전제로 구간이 대칭(|za|=zb)을 가정하고 있다\n",
    "a = 0.05라고 둔 경우 흰 부분의 면적은 양측으로 두 개가 있기 때문에 한 쪽 흰 부분의 면적은 0.025이다. 이 값에 대한 백분위점을 구하는 것이 된다."
   ]
  },
  {
   "cell_type": "code",
   "execution_count": 5,
   "metadata": {},
   "outputs": [
    {
     "name": "stdout",
     "output_type": "stream",
     "text": [
      "za= -1.959963984540054 zb= 1.959963984540054\n"
     ]
    }
   ],
   "source": [
    "za, zb = norm.interval(alpha=0.95, loc=0, scale=1)\n",
    "print('za=', za, 'zb=',zb)"
   ]
  },
  {
   "cell_type": "code",
   "execution_count": null,
   "metadata": {},
   "outputs": [],
   "source": []
  }
 ],
 "metadata": {
  "kernelspec": {
   "display_name": "Python 3.10.4 64-bit",
   "language": "python",
   "name": "python3"
  },
  "language_info": {
   "codemirror_mode": {
    "name": "ipython",
    "version": 3
   },
   "file_extension": ".py",
   "mimetype": "text/x-python",
   "name": "python",
   "nbconvert_exporter": "python",
   "pygments_lexer": "ipython3",
   "version": "3.10.4"
  },
  "orig_nbformat": 4,
  "vscode": {
   "interpreter": {
    "hash": "26de051ba29f2982a8de78e945f0abaf191376122a1563185a90213a26c5da77"
   }
  }
 },
 "nbformat": 4,
 "nbformat_minor": 2
}
