{
 "cells": [
  {
   "cell_type": "code",
   "execution_count": 1,
   "metadata": {},
   "outputs": [
    {
     "name": "stdout",
     "output_type": "stream",
     "text": [
      "type(x): <class 'numpy.ndarray'>, x.shape: (2, 3), x.dtype: float64\n"
     ]
    }
   ],
   "source": [
    "import numpy as np\n",
    "\n",
    "x = np.array([[1,2,3], [4,5,6]], dtype=np.float64)\n",
    "print(f'type(x): {type(x)}, x.shape: {x.shape}, x.dtype: {x.dtype}')"
   ]
  },
  {
   "cell_type": "code",
   "execution_count": 2,
   "metadata": {},
   "outputs": [
    {
     "data": {
      "text/plain": [
       "DatetimeIndex(['2000-01-31', '2000-02-29', '2000-03-31', '2000-04-30',\n",
       "               '2000-05-31', '2000-06-30', '2000-07-31', '2000-08-31'],\n",
       "              dtype='datetime64[ns]', freq='M')"
      ]
     },
     "execution_count": 2,
     "metadata": {},
     "output_type": "execute_result"
    }
   ],
   "source": [
    "# 시간 계열\n",
    "import pandas as pd\n",
    "\n",
    "nobs = 8\n",
    "ts = pd.date_range('1/1/2000', periods=nobs, freq='M')\n",
    "ts"
   ]
  },
  {
   "cell_type": "markdown",
   "metadata": {},
   "source": [
    "1/1/2000 - 시간 계열의 개시 시각, 시간 표기의 포맷에는 'Jul 31, 2009', '2012-05-01 00:00:00'등 몇 가지가 있다.\n",
    "period - freq에서 지정한 시간 간격으로 발생하는 데이터 수/\n",
    "freq - 시간 간격을 지정한다. 예를 들면 'N': 나노초로부터 'H': 1시간, 'D': 일, 'W': 주, 'M': 월, 'Q': 사분기(4개월), 'Y': 년 등이 있다."
   ]
  },
  {
   "cell_type": "code",
   "execution_count": 3,
   "metadata": {},
   "outputs": [
    {
     "data": {
      "text/plain": [
       "<bound method NDFrame.head of 2000-01-31   -0.961492\n",
       "2000-02-29    4.378237\n",
       "2000-03-31   -0.506208\n",
       "2000-04-30    0.186979\n",
       "2000-05-31    0.699879\n",
       "2000-06-30    0.574936\n",
       "2000-07-31    0.641657\n",
       "2000-08-31    1.449554\n",
       "Freq: M, dtype: float64>"
      ]
     },
     "execution_count": 3,
     "metadata": {},
     "output_type": "execute_result"
    }
   ],
   "source": [
    "y0 = np.random.normal(loc=1.5, scale=2.0, size=nobs)\n",
    "y = pd.Series(y0, index=ts)\n",
    "y.head"
   ]
  },
  {
   "cell_type": "markdown",
   "metadata": {},
   "source": [
    "numpy.ndarray => pandas.DataFrame으로 상호 변환"
   ]
  },
  {
   "cell_type": "code",
   "execution_count": null,
   "metadata": {},
   "outputs": [],
   "source": [
    "x = np.random.normal(size=10)\n",
    "y = pd.Series(x)\n",
    "df = pd.DataFrame(x)"
   ]
  },
  {
   "cell_type": "markdown",
   "metadata": {},
   "source": [
    "pandas.DataFrame => numpy.ndarray로 변환"
   ]
  },
  {
   "cell_type": "code",
   "execution_count": null,
   "metadata": {},
   "outputs": [],
   "source": [
    "val = df['Height'].values\n",
    "print(type(val))"
   ]
  }
 ],
 "metadata": {
  "kernelspec": {
   "display_name": "Python 3.10.4 64-bit",
   "language": "python",
   "name": "python3"
  },
  "language_info": {
   "codemirror_mode": {
    "name": "ipython",
    "version": 3
   },
   "file_extension": ".py",
   "mimetype": "text/x-python",
   "name": "python",
   "nbconvert_exporter": "python",
   "pygments_lexer": "ipython3",
   "version": "3.10.4"
  },
  "orig_nbformat": 4,
  "vscode": {
   "interpreter": {
    "hash": "26de051ba29f2982a8de78e945f0abaf191376122a1563185a90213a26c5da77"
   }
  }
 },
 "nbformat": 4,
 "nbformat_minor": 2
}
